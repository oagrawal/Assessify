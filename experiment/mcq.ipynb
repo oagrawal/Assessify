{
 "cells": [
  {
   "cell_type": "code",
   "execution_count": 54,
   "metadata": {},
   "outputs": [],
   "source": [
    "import os\n",
    "import json\n",
    "import pandas as pd\n",
    "import traceback"
   ]
  },
  {
   "cell_type": "code",
   "execution_count": 55,
   "metadata": {},
   "outputs": [],
   "source": [
    "from langchain.chat_models import ChatOpenAI"
   ]
  },
  {
   "cell_type": "code",
   "execution_count": 56,
   "metadata": {},
   "outputs": [
    {
     "data": {
      "text/plain": [
       "True"
      ]
     },
     "execution_count": 56,
     "metadata": {},
     "output_type": "execute_result"
    }
   ],
   "source": [
    "from dotenv import load_dotenv\n",
    "\n",
    "load_dotenv()"
   ]
  },
  {
   "cell_type": "code",
   "execution_count": 57,
   "metadata": {},
   "outputs": [],
   "source": [
    "openai_key = os.getenv(\"OPENAI_API_KEY\")"
   ]
  },
  {
   "cell_type": "code",
   "execution_count": 58,
   "metadata": {},
   "outputs": [],
   "source": [
    "llm = ChatOpenAI(api_key = openai_key, model_name=\"gpt-3.5-turbo\", temperature=0.7)"
   ]
  },
  {
   "cell_type": "code",
   "execution_count": 59,
   "metadata": {},
   "outputs": [],
   "source": [
    "from langchain.llms import OpenAI\n",
    "from langchain.prompts import PromptTemplate\n",
    "from langchain.chains import LLMChain\n",
    "from langchain.chains import SequentialChain\n",
    "from langchain.callbacks import get_openai_callback\n",
    "import PyPDF2\n"
   ]
  },
  {
   "cell_type": "code",
   "execution_count": 60,
   "metadata": {},
   "outputs": [],
   "source": [
    "RESPONSE_JSON = {\n",
    "    \"1\": {\n",
    "        \"mcq\": \"multiple choice question\",\n",
    "        \"options\": {\n",
    "            \"a\": \"choice here\",\n",
    "            \"b\": \"choice here\",\n",
    "            \"c\": \"choice here\",\n",
    "            \"d\": \"choice here\",\n",
    "        },\n",
    "        \"correct\": \"correct answer\",\n",
    "    },\n",
    "    \"2\": {\n",
    "        \"mcq\": \"multiple choice question\",\n",
    "        \"options\": {\n",
    "            \"a\": \"choice here\",\n",
    "            \"b\": \"choice here\",\n",
    "            \"c\": \"choice here\",\n",
    "            \"d\": \"choice here\",\n",
    "        },\n",
    "        \"correct\": \"correct answer\",\n",
    "    },\n",
    "    \"3\": {\n",
    "        \"mcq\": \"multiple choice question\",\n",
    "        \"options\": {\n",
    "            \"a\": \"choice here\",\n",
    "            \"b\": \"choice here\",\n",
    "            \"c\": \"choice here\",\n",
    "            \"d\": \"choice here\",\n",
    "        },\n",
    "        \"correct\": \"correct answer\",\n",
    "    },\n",
    "    \"4\": {\n",
    "        \"mcq\": \"multiple choice question\",\n",
    "        \"options\": {\n",
    "            \"a\": \"choice here\",\n",
    "            \"b\": \"choice here\",\n",
    "            \"c\": \"choice here\",\n",
    "            \"d\": \"choice here\",\n",
    "        },\n",
    "        \"correct\": \"correct answer\",\n",
    "    },\n",
    "}\n"
   ]
  },
  {
   "cell_type": "code",
   "execution_count": 61,
   "metadata": {},
   "outputs": [],
   "source": [
    "TEMPLATE = \"\"\"\n",
    "\n",
    "Material: {material}\n",
    "\n",
    "You are a knowledgable professor, who is an expert at creating multiple choice questions. Given the above material, it is your job to \\\n",
    "create a multiple choice quiz of {number} multiple choice questions for students of {subject}. Set the difficulty of the exam to be {difficulty}.\n",
    "Make sure the questions are not repeated and check to make sure that students can get the answer to each of your questions using the above text, and \\\n",
    "the above text alone.\n",
    "\n",
    "Make sure to format your response like RESPONSE_JSON below, and use it as a guide for your output.\n",
    "\n",
    "Ensure there are {number} Multiple Choice Questions.\n",
    "\n",
    "### Response JSON below:\n",
    "{response_json}\n",
    "\n",
    "\"\"\""
   ]
  },
  {
   "cell_type": "code",
   "execution_count": 62,
   "metadata": {},
   "outputs": [],
   "source": [
    "quiz_gen_prompt = PromptTemplate(\n",
    "    input_variables=[\"material\", \"number\", \"subject\", \"difficulty\", \"response_json\"],\n",
    "    template=TEMPLATE\n",
    ")"
   ]
  },
  {
   "cell_type": "code",
   "execution_count": 63,
   "metadata": {},
   "outputs": [],
   "source": [
    "quiz_chain = LLMChain(llm=llm, prompt=quiz_gen_prompt, output_key=\"quiz\", verbose=True)"
   ]
  },
  {
   "cell_type": "code",
   "execution_count": 64,
   "metadata": {},
   "outputs": [],
   "source": [
    "TEMPLATE_EVAL = \"\"\"\n",
    "You are an expert in English grammar and writing. You've been tasked with evaluating a Multiple Choice Quiz for {subject} students. \\\n",
    "Your analysis should include a concise assessment of its complexity, using a maximum of 50 words. \\\n",
    "If the quiz doesn't match the students' cognitive and analytical abilities, modify questions accordingly, adjusting the tone to suit their level.\n",
    "\n",
    "Quiz_MCQs:\n",
    "{quiz}\n",
    "\n",
    "Seek evaluation from an expert English writer for the quiz above:\n",
    "\"\"\"\n"
   ]
  },
  {
   "cell_type": "code",
   "execution_count": 65,
   "metadata": {},
   "outputs": [],
   "source": [
    "quiz_eval_prompt = PromptTemplate(\n",
    "    input_variables=[\"subject\", \"quiz\"],\n",
    "    template=TEMPLATE_EVAL\n",
    ")"
   ]
  },
  {
   "cell_type": "code",
   "execution_count": 66,
   "metadata": {},
   "outputs": [],
   "source": [
    "review_chain = LLMChain(llm=llm, prompt=quiz_eval_prompt, output_key=\"review\", verbose=True)"
   ]
  },
  {
   "cell_type": "code",
   "execution_count": 67,
   "metadata": {},
   "outputs": [],
   "source": [
    "generate_evaluation_chain = SequentialChain(chains=[quiz_chain, review_chain], input_variables=[\"material\", \"number\", \"subject\", \"difficulty\", \"response_json\"], \n",
    "                                            output_variables = [\"quiz\", \"review\"], verbose=True)"
   ]
  },
  {
   "cell_type": "code",
   "execution_count": 68,
   "metadata": {},
   "outputs": [],
   "source": [
    "file_path = r'C:\\Users\\03123\\OM\\NLP\\mcq_gen\\data.txt'"
   ]
  },
  {
   "cell_type": "code",
   "execution_count": 69,
   "metadata": {},
   "outputs": [],
   "source": [
    "with open(file_path, 'r') as file:\n",
    "    TEXT = file.read()"
   ]
  },
  {
   "cell_type": "code",
   "execution_count": 70,
   "metadata": {},
   "outputs": [
    {
     "name": "stdout",
     "output_type": "stream",
     "text": [
      "Hinduism as it is commonly known can be subdivided into a number of major currents. Of the historical division into six darsanas (philosophies), two schools, Vedanta and Yoga, are currently the most prominent.[62] The six āstika schools of Hindu philosophy, which recognise the authority of the Vedas are: Sānkhya, Yoga, Nyāya, Vaisheshika, Mimāmsā, and Vedānta.[4][5]\n",
      "\n",
      "Classified by primary deity or deities, four major Hinduism modern currents are Shaivism (Shiva), Vaishnavism (Vishnu), Shaktism (Devi) and Smartism (five deities treated as equals).[63][64][65][66] Hinduism also accepts numerous divine beings, with many Hindus considering the deities to be aspects or manifestations of a single impersonal absolute or ultimate reality or Supreme God, while some Hindus maintain that a specific deity represents the supreme and various deities are lower manifestations of this supreme.[67] Other notable characteristics include a belief in the existence of ātman (self), reincarnation of one's ātman, and karma as well as a belief in dharma (duties, rights, laws, conduct, virtues and right way of living), although variation exists, with some not following these beliefs.[citation needed]\n",
      "\n",
      "June McDaniel (2007) classifies Hinduism into six major kinds and numerous minor kinds, in order to understand the expression of emotions among the Hindus.[47] The major kinds, according to McDaniel are Folk Hinduism, based on local traditions and cults of local deities and is the oldest, non-literate system; Vedic Hinduism based on the earliest layers of the Vedas, traceable to the 2nd millennium BCE; Vedantic Hinduism based on the philosophy of the Upanishads, including Advaita Vedanta, emphasising knowledge and wisdom; Yogic Hinduism, following the text of Yoga Sutras of Patanjali emphasising introspective awareness; Dharmic Hinduism or \"daily morality\", which McDaniel states is stereotyped in some books as the \"only form of Hindu religion with a belief in karma, cows and caste\"; and bhakti or devotional Hinduism, where intense emotions are elaborately incorporated in the pursuit of the spiritual.[47]\n",
      "\n",
      "Michaels distinguishes three Hindu religions and four forms of Hindu religiosity.[48] The three Hindu religions are \"Brahmanic-Sanskritic Hinduism\", \"folk religions and tribal religions\", and \"founded religions\".[68] The four forms of Hindu religiosity are the classical \"karma-marga\",[69] jnana-marga,[70] bhakti-marga,[70] and \"heroism\", which is rooted in militaristic traditions. These militaristic traditions include Ramaism (the worship of a hero of epic literature, Rama, believing him to be an incarnation of Vishnu)[71] and parts of political Hinduism.[69] \"Heroism\" is also called virya-marga.[70] According to Michaels, one out of nine Hindu belongs by birth to one or both of the Brahmanic-Sanskritic Hinduism and Folk religion typology, whether practising or non-practicing. He classifies most Hindus as belonging by choice to one of the \"founded religions\" such as Vaishnavism and Shaivism that are moksha-focussed and often de-emphasise Brahman (Brahmin) priestly authority yet incorporate ritual grammar of Brahmanic-Sanskritic Hinduism.[72] He includes among \"founded religions\" Buddhism, Jainism, Sikhism that are now distinct religions, syncretic movements such as Brahmo Samaj and the Theosophical Society, as well as various \"Guru-isms\" and new religious movements such as Maharishi Mahesh Yogi and ISKCON.[73]\n",
      "\n",
      "Inden states that the attempt to classify Hinduism by typology started in the imperial times, when proselytising missionaries and colonial officials sought to understand and portray Hinduism from their interests.[74] Hinduism was construed as emanating not from a reason of spirit but fantasy and creative imagination, not conceptual but symbolical, not ethical but emotive, not rational or spiritual but of cognitive mysticism. This stereotype followed and fit, states Inden, with the imperial imperatives of the era, providing the moral justification for the colonial project.[74] From tribal Animism to Buddhism, everything was subsumed as part of Hinduism. The early reports set the tradition and scholarly premises for the typology of Hinduism, as well as the major assumptions and flawed presuppositions that have been at the foundation of Indology. Hinduism, according to Inden, has been neither what imperial religionists stereotyped it to be, nor is it appropriate to equate Hinduism to be merely the monist pantheism and philosophical idealism of Advaita Vedanta.[74]\n",
      "\n",
      "Some academics suggest that Hinduism can be seen as a category with \"fuzzy edges\" rather than as a well-defined and rigid entity. Some forms of religious expression are central to Hinduism and others, while not as central, still remain within the category. Based on this idea Gabriella Eichinger Ferro-Luzzi has developed a 'Prototype Theory approach' to the definition of Hinduism.[75]\n"
     ]
    }
   ],
   "source": [
    "print(TEXT)"
   ]
  },
  {
   "cell_type": "code",
   "execution_count": 71,
   "metadata": {},
   "outputs": [
    {
     "data": {
      "text/plain": [
       "'{\"1\": {\"mcq\": \"multiple choice question\", \"options\": {\"a\": \"choice here\", \"b\": \"choice here\", \"c\": \"choice here\", \"d\": \"choice here\"}, \"correct\": \"correct answer\"}, \"2\": {\"mcq\": \"multiple choice question\", \"options\": {\"a\": \"choice here\", \"b\": \"choice here\", \"c\": \"choice here\", \"d\": \"choice here\"}, \"correct\": \"correct answer\"}, \"3\": {\"mcq\": \"multiple choice question\", \"options\": {\"a\": \"choice here\", \"b\": \"choice here\", \"c\": \"choice here\", \"d\": \"choice here\"}, \"correct\": \"correct answer\"}, \"4\": {\"mcq\": \"multiple choice question\", \"options\": {\"a\": \"choice here\", \"b\": \"choice here\", \"c\": \"choice here\", \"d\": \"choice here\"}, \"correct\": \"correct answer\"}}'"
      ]
     },
     "execution_count": 71,
     "metadata": {},
     "output_type": "execute_result"
    }
   ],
   "source": [
    "json.dumps(RESPONSE_JSON)"
   ]
  },
  {
   "cell_type": "code",
   "execution_count": 72,
   "metadata": {},
   "outputs": [],
   "source": [
    "NUMBER = 5\n",
    "SUBJECT = 'religion'\n",
    "TONE = 'easy'\n"
   ]
  },
  {
   "cell_type": "code",
   "execution_count": 73,
   "metadata": {},
   "outputs": [
    {
     "name": "stdout",
     "output_type": "stream",
     "text": [
      "\n",
      "\n",
      "\u001b[1m> Entering new SequentialChain chain...\u001b[0m\n",
      "\n",
      "\n",
      "\u001b[1m> Entering new LLMChain chain...\u001b[0m\n",
      "Prompt after formatting:\n",
      "\u001b[32;1m\u001b[1;3m\n",
      "\n",
      "Material: Hinduism as it is commonly known can be subdivided into a number of major currents. Of the historical division into six darsanas (philosophies), two schools, Vedanta and Yoga, are currently the most prominent.[62] The six āstika schools of Hindu philosophy, which recognise the authority of the Vedas are: Sānkhya, Yoga, Nyāya, Vaisheshika, Mimāmsā, and Vedānta.[4][5]\n",
      "\n",
      "Classified by primary deity or deities, four major Hinduism modern currents are Shaivism (Shiva), Vaishnavism (Vishnu), Shaktism (Devi) and Smartism (five deities treated as equals).[63][64][65][66] Hinduism also accepts numerous divine beings, with many Hindus considering the deities to be aspects or manifestations of a single impersonal absolute or ultimate reality or Supreme God, while some Hindus maintain that a specific deity represents the supreme and various deities are lower manifestations of this supreme.[67] Other notable characteristics include a belief in the existence of ātman (self), reincarnation of one's ātman, and karma as well as a belief in dharma (duties, rights, laws, conduct, virtues and right way of living), although variation exists, with some not following these beliefs.[citation needed]\n",
      "\n",
      "June McDaniel (2007) classifies Hinduism into six major kinds and numerous minor kinds, in order to understand the expression of emotions among the Hindus.[47] The major kinds, according to McDaniel are Folk Hinduism, based on local traditions and cults of local deities and is the oldest, non-literate system; Vedic Hinduism based on the earliest layers of the Vedas, traceable to the 2nd millennium BCE; Vedantic Hinduism based on the philosophy of the Upanishads, including Advaita Vedanta, emphasising knowledge and wisdom; Yogic Hinduism, following the text of Yoga Sutras of Patanjali emphasising introspective awareness; Dharmic Hinduism or \"daily morality\", which McDaniel states is stereotyped in some books as the \"only form of Hindu religion with a belief in karma, cows and caste\"; and bhakti or devotional Hinduism, where intense emotions are elaborately incorporated in the pursuit of the spiritual.[47]\n",
      "\n",
      "Michaels distinguishes three Hindu religions and four forms of Hindu religiosity.[48] The three Hindu religions are \"Brahmanic-Sanskritic Hinduism\", \"folk religions and tribal religions\", and \"founded religions\".[68] The four forms of Hindu religiosity are the classical \"karma-marga\",[69] jnana-marga,[70] bhakti-marga,[70] and \"heroism\", which is rooted in militaristic traditions. These militaristic traditions include Ramaism (the worship of a hero of epic literature, Rama, believing him to be an incarnation of Vishnu)[71] and parts of political Hinduism.[69] \"Heroism\" is also called virya-marga.[70] According to Michaels, one out of nine Hindu belongs by birth to one or both of the Brahmanic-Sanskritic Hinduism and Folk religion typology, whether practising or non-practicing. He classifies most Hindus as belonging by choice to one of the \"founded religions\" such as Vaishnavism and Shaivism that are moksha-focussed and often de-emphasise Brahman (Brahmin) priestly authority yet incorporate ritual grammar of Brahmanic-Sanskritic Hinduism.[72] He includes among \"founded religions\" Buddhism, Jainism, Sikhism that are now distinct religions, syncretic movements such as Brahmo Samaj and the Theosophical Society, as well as various \"Guru-isms\" and new religious movements such as Maharishi Mahesh Yogi and ISKCON.[73]\n",
      "\n",
      "Inden states that the attempt to classify Hinduism by typology started in the imperial times, when proselytising missionaries and colonial officials sought to understand and portray Hinduism from their interests.[74] Hinduism was construed as emanating not from a reason of spirit but fantasy and creative imagination, not conceptual but symbolical, not ethical but emotive, not rational or spiritual but of cognitive mysticism. This stereotype followed and fit, states Inden, with the imperial imperatives of the era, providing the moral justification for the colonial project.[74] From tribal Animism to Buddhism, everything was subsumed as part of Hinduism. The early reports set the tradition and scholarly premises for the typology of Hinduism, as well as the major assumptions and flawed presuppositions that have been at the foundation of Indology. Hinduism, according to Inden, has been neither what imperial religionists stereotyped it to be, nor is it appropriate to equate Hinduism to be merely the monist pantheism and philosophical idealism of Advaita Vedanta.[74]\n",
      "\n",
      "Some academics suggest that Hinduism can be seen as a category with \"fuzzy edges\" rather than as a well-defined and rigid entity. Some forms of religious expression are central to Hinduism and others, while not as central, still remain within the category. Based on this idea Gabriella Eichinger Ferro-Luzzi has developed a 'Prototype Theory approach' to the definition of Hinduism.[75]\n",
      "\n",
      "You are a knowledgable professor, who is an expert at creating multiple choice questions. Given the above material, it is your job to create a multiple choice quiz of 5 multiple choice questions for students of religion. Set the difficulty of the exam to be easy.\n",
      "Make sure the questions are not repeated and check to make sure that students can get the answer to each of your questions using the above text, and the above text alone.\n",
      "\n",
      "Make sure to format your response like RESPONSE_JSON below, and use it as a guide for your output.\n",
      "\n",
      "Ensure there are 5 Multiple Choice Questions.\n",
      "\n",
      "### Response JSON below:\n",
      "{\"1\": {\"mcq\": \"multiple choice question\", \"options\": {\"a\": \"choice here\", \"b\": \"choice here\", \"c\": \"choice here\", \"d\": \"choice here\"}, \"correct\": \"correct answer\"}, \"2\": {\"mcq\": \"multiple choice question\", \"options\": {\"a\": \"choice here\", \"b\": \"choice here\", \"c\": \"choice here\", \"d\": \"choice here\"}, \"correct\": \"correct answer\"}, \"3\": {\"mcq\": \"multiple choice question\", \"options\": {\"a\": \"choice here\", \"b\": \"choice here\", \"c\": \"choice here\", \"d\": \"choice here\"}, \"correct\": \"correct answer\"}, \"4\": {\"mcq\": \"multiple choice question\", \"options\": {\"a\": \"choice here\", \"b\": \"choice here\", \"c\": \"choice here\", \"d\": \"choice here\"}, \"correct\": \"correct answer\"}}\n",
      "\n",
      "\u001b[0m\n",
      "\n",
      "\u001b[1m> Finished chain.\u001b[0m\n",
      "\n",
      "\n",
      "\u001b[1m> Entering new LLMChain chain...\u001b[0m\n",
      "Prompt after formatting:\n",
      "\u001b[32;1m\u001b[1;3m\n",
      "You are an expert in English grammar and writing. You've been tasked with evaluating a Multiple Choice Quiz for religion students. Your analysis should include a concise assessment of its complexity, using a maximum of 50 words. If the quiz doesn't match the students' cognitive and analytical abilities, modify questions accordingly, adjusting the tone to suit their level.\n",
      "\n",
      "Quiz_MCQs:\n",
      "{\"1\": {\"mcq\": \"Which of the following is not one of the six major kinds of Hinduism according to June McDaniel?\", \"options\": {\"a\": \"Folk Hinduism\", \"b\": \"Vedic Hinduism\", \"c\": \"Buddhism\", \"d\": \"Vedantic Hinduism\"}, \"correct\": \"c\"}, \n",
      "\"2\": {\"mcq\": \"What are the four major currents of Hinduism based on primary deities?\", \"options\": {\"a\": \"Shaivism, Vaishnavism, Shaktism, Smartism\", \"b\": \"Sānkhya, Yoga, Nyāya, Vaisheshika\", \"c\": \"Ramaism, Brahmo Samaj, Theosophical Society, ISKCON\", \"d\": \"Vedanta, Yoga, Nyāya, Vaisheshika\"}, \"correct\": \"a\"}, \n",
      "\"3\": {\"mcq\": \"According to Michaels, what are the three Hindu religions?\", \"options\": {\"a\": \"Brahmanic-Sanskritic Hinduism, Jainism, Sikhism\", \"b\": \"Brahmanic-Sanskritic Hinduism, folk religions and tribal religions, founded religions\", \"c\": \"Vaishnavism, Shaivism, Shaktism\", \"d\": \"Vedanta, Yoga, Mimāmsā\"}, \"correct\": \"b\"}, \n",
      "\"4\": {\"mcq\": \"What is the classification of Hindu religiosity according to Michaels?\", \"options\": {\"a\": \"karma-marga, jnana-marga, bhakti-marga, heroism\", \"b\": \"Buddhism, Jainism, Sikhism, Brahmo Samaj\", \"c\": \"Sānkhya, Yoga, Nyāya, Vaisheshika\", \"d\": \"Shaivism, Vaishnavism, Shaktism, Smartism\"}, \"correct\": \"a\"}, \n",
      "\"5\": {\"mcq\": \"Why did the attempt to classify Hinduism by typology start in the imperial times according to Inden?\", \"options\": {\"a\": \"To understand and portray Hinduism from the perspective of proselytising missionaries and colonial officials\", \"b\": \"To create a rigid definition of Hinduism\", \"c\": \"To promote the ideals of Advaita Vedanta\", \"d\": \"To categorize Hinduism based on geographical regions\"}, \"correct\": \"a\"}}\n",
      "\n",
      "Seek evaluation from an expert English writer for the quiz above:\n",
      "\u001b[0m\n",
      "\n",
      "\u001b[1m> Finished chain.\u001b[0m\n",
      "\n",
      "\u001b[1m> Finished chain.\u001b[0m\n"
     ]
    }
   ],
   "source": [
    "#https://python.langchain.com/docs/modules/model_io/llms/token_usage_tracking\n",
    "\n",
    "#How to setup Token Usage Tracking in LangChain\n",
    "with get_openai_callback() as cb:\n",
    "    response=generate_evaluation_chain(\n",
    "        {\n",
    "            \"material\": TEXT,\n",
    "            \"number\": NUMBER,\n",
    "            \"subject\":SUBJECT,\n",
    "            \"difficulty\": TONE,\n",
    "            \"response_json\": json.dumps(RESPONSE_JSON)\n",
    "        }\n",
    "        )\n"
   ]
  },
  {
   "cell_type": "code",
   "execution_count": 74,
   "metadata": {},
   "outputs": [
    {
     "name": "stdout",
     "output_type": "stream",
     "text": [
      "Total Tokens:2617\n",
      "Prompt Tokens:2061\n",
      "Completion Tokens:556\n",
      "Total Cost:0.004203500000000001\n"
     ]
    }
   ],
   "source": [
    "print(f\"Total Tokens:{cb.total_tokens}\")\n",
    "print(f\"Prompt Tokens:{cb.prompt_tokens}\")\n",
    "print(f\"Completion Tokens:{cb.completion_tokens}\")\n",
    "print(f\"Total Cost:{cb.total_cost}\")\n"
   ]
  },
  {
   "cell_type": "code",
   "execution_count": 76,
   "metadata": {},
   "outputs": [
    {
     "data": {
      "text/plain": [
       "{'material': 'Hinduism as it is commonly known can be subdivided into a number of major currents. Of the historical division into six darsanas (philosophies), two schools, Vedanta and Yoga, are currently the most prominent.[62] The six āstika schools of Hindu philosophy, which recognise the authority of the Vedas are: Sānkhya, Yoga, Nyāya, Vaisheshika, Mimāmsā, and Vedānta.[4][5]\\n\\nClassified by primary deity or deities, four major Hinduism modern currents are Shaivism (Shiva), Vaishnavism (Vishnu), Shaktism (Devi) and Smartism (five deities treated as equals).[63][64][65][66] Hinduism also accepts numerous divine beings, with many Hindus considering the deities to be aspects or manifestations of a single impersonal absolute or ultimate reality or Supreme God, while some Hindus maintain that a specific deity represents the supreme and various deities are lower manifestations of this supreme.[67] Other notable characteristics include a belief in the existence of ātman (self), reincarnation of one\\'s ātman, and karma as well as a belief in dharma (duties, rights, laws, conduct, virtues and right way of living), although variation exists, with some not following these beliefs.[citation needed]\\n\\nJune McDaniel (2007) classifies Hinduism into six major kinds and numerous minor kinds, in order to understand the expression of emotions among the Hindus.[47] The major kinds, according to McDaniel are Folk Hinduism, based on local traditions and cults of local deities and is the oldest, non-literate system; Vedic Hinduism based on the earliest layers of the Vedas, traceable to the 2nd millennium BCE; Vedantic Hinduism based on the philosophy of the Upanishads, including Advaita Vedanta, emphasising knowledge and wisdom; Yogic Hinduism, following the text of Yoga Sutras of Patanjali emphasising introspective awareness; Dharmic Hinduism or \"daily morality\", which McDaniel states is stereotyped in some books as the \"only form of Hindu religion with a belief in karma, cows and caste\"; and bhakti or devotional Hinduism, where intense emotions are elaborately incorporated in the pursuit of the spiritual.[47]\\n\\nMichaels distinguishes three Hindu religions and four forms of Hindu religiosity.[48] The three Hindu religions are \"Brahmanic-Sanskritic Hinduism\", \"folk religions and tribal religions\", and \"founded religions\".[68] The four forms of Hindu religiosity are the classical \"karma-marga\",[69] jnana-marga,[70] bhakti-marga,[70] and \"heroism\", which is rooted in militaristic traditions. These militaristic traditions include Ramaism (the worship of a hero of epic literature, Rama, believing him to be an incarnation of Vishnu)[71] and parts of political Hinduism.[69] \"Heroism\" is also called virya-marga.[70] According to Michaels, one out of nine Hindu belongs by birth to one or both of the Brahmanic-Sanskritic Hinduism and Folk religion typology, whether practising or non-practicing. He classifies most Hindus as belonging by choice to one of the \"founded religions\" such as Vaishnavism and Shaivism that are moksha-focussed and often de-emphasise Brahman (Brahmin) priestly authority yet incorporate ritual grammar of Brahmanic-Sanskritic Hinduism.[72] He includes among \"founded religions\" Buddhism, Jainism, Sikhism that are now distinct religions, syncretic movements such as Brahmo Samaj and the Theosophical Society, as well as various \"Guru-isms\" and new religious movements such as Maharishi Mahesh Yogi and ISKCON.[73]\\n\\nInden states that the attempt to classify Hinduism by typology started in the imperial times, when proselytising missionaries and colonial officials sought to understand and portray Hinduism from their interests.[74] Hinduism was construed as emanating not from a reason of spirit but fantasy and creative imagination, not conceptual but symbolical, not ethical but emotive, not rational or spiritual but of cognitive mysticism. This stereotype followed and fit, states Inden, with the imperial imperatives of the era, providing the moral justification for the colonial project.[74] From tribal Animism to Buddhism, everything was subsumed as part of Hinduism. The early reports set the tradition and scholarly premises for the typology of Hinduism, as well as the major assumptions and flawed presuppositions that have been at the foundation of Indology. Hinduism, according to Inden, has been neither what imperial religionists stereotyped it to be, nor is it appropriate to equate Hinduism to be merely the monist pantheism and philosophical idealism of Advaita Vedanta.[74]\\n\\nSome academics suggest that Hinduism can be seen as a category with \"fuzzy edges\" rather than as a well-defined and rigid entity. Some forms of religious expression are central to Hinduism and others, while not as central, still remain within the category. Based on this idea Gabriella Eichinger Ferro-Luzzi has developed a \\'Prototype Theory approach\\' to the definition of Hinduism.[75]',\n",
       " 'number': 5,\n",
       " 'subject': 'religion',\n",
       " 'difficulty': 'easy',\n",
       " 'response_json': '{\"1\": {\"mcq\": \"multiple choice question\", \"options\": {\"a\": \"choice here\", \"b\": \"choice here\", \"c\": \"choice here\", \"d\": \"choice here\"}, \"correct\": \"correct answer\"}, \"2\": {\"mcq\": \"multiple choice question\", \"options\": {\"a\": \"choice here\", \"b\": \"choice here\", \"c\": \"choice here\", \"d\": \"choice here\"}, \"correct\": \"correct answer\"}, \"3\": {\"mcq\": \"multiple choice question\", \"options\": {\"a\": \"choice here\", \"b\": \"choice here\", \"c\": \"choice here\", \"d\": \"choice here\"}, \"correct\": \"correct answer\"}, \"4\": {\"mcq\": \"multiple choice question\", \"options\": {\"a\": \"choice here\", \"b\": \"choice here\", \"c\": \"choice here\", \"d\": \"choice here\"}, \"correct\": \"correct answer\"}}',\n",
       " 'quiz': '{\"1\": {\"mcq\": \"Which of the following is not one of the six major kinds of Hinduism according to June McDaniel?\", \"options\": {\"a\": \"Folk Hinduism\", \"b\": \"Vedic Hinduism\", \"c\": \"Buddhism\", \"d\": \"Vedantic Hinduism\"}, \"correct\": \"c\"}, \\n\"2\": {\"mcq\": \"What are the four major currents of Hinduism based on primary deities?\", \"options\": {\"a\": \"Shaivism, Vaishnavism, Shaktism, Smartism\", \"b\": \"Sānkhya, Yoga, Nyāya, Vaisheshika\", \"c\": \"Ramaism, Brahmo Samaj, Theosophical Society, ISKCON\", \"d\": \"Vedanta, Yoga, Nyāya, Vaisheshika\"}, \"correct\": \"a\"}, \\n\"3\": {\"mcq\": \"According to Michaels, what are the three Hindu religions?\", \"options\": {\"a\": \"Brahmanic-Sanskritic Hinduism, Jainism, Sikhism\", \"b\": \"Brahmanic-Sanskritic Hinduism, folk religions and tribal religions, founded religions\", \"c\": \"Vaishnavism, Shaivism, Shaktism\", \"d\": \"Vedanta, Yoga, Mimāmsā\"}, \"correct\": \"b\"}, \\n\"4\": {\"mcq\": \"What is the classification of Hindu religiosity according to Michaels?\", \"options\": {\"a\": \"karma-marga, jnana-marga, bhakti-marga, heroism\", \"b\": \"Buddhism, Jainism, Sikhism, Brahmo Samaj\", \"c\": \"Sānkhya, Yoga, Nyāya, Vaisheshika\", \"d\": \"Shaivism, Vaishnavism, Shaktism, Smartism\"}, \"correct\": \"a\"}, \\n\"5\": {\"mcq\": \"Why did the attempt to classify Hinduism by typology start in the imperial times according to Inden?\", \"options\": {\"a\": \"To understand and portray Hinduism from the perspective of proselytising missionaries and colonial officials\", \"b\": \"To create a rigid definition of Hinduism\", \"c\": \"To promote the ideals of Advaita Vedanta\", \"d\": \"To categorize Hinduism based on geographical regions\"}, \"correct\": \"a\"}}',\n",
       " 'review': 'The Multiple Choice Quiz for religion students is complex and may not match their cognitive and analytical abilities. Questions could be modified to simplify language and structure, ensuring better comprehension for students. Tone adjustment is recommended to suit their level of understanding.'}"
      ]
     },
     "execution_count": 76,
     "metadata": {},
     "output_type": "execute_result"
    }
   ],
   "source": [
    "response"
   ]
  },
  {
   "cell_type": "code",
   "execution_count": 77,
   "metadata": {},
   "outputs": [],
   "source": [
    "quiz = response.get(\"quiz\")"
   ]
  },
  {
   "cell_type": "code",
   "execution_count": 83,
   "metadata": {},
   "outputs": [],
   "source": [
    "quiz_json = json.loads(quiz)"
   ]
  },
  {
   "cell_type": "code",
   "execution_count": 79,
   "metadata": {},
   "outputs": [],
   "source": [
    "review = response.get(\"review\")"
   ]
  },
  {
   "cell_type": "code",
   "execution_count": 80,
   "metadata": {},
   "outputs": [
    {
     "data": {
      "text/plain": [
       "'The Multiple Choice Quiz for religion students is complex and may not match their cognitive and analytical abilities. Questions could be modified to simplify language and structure, ensuring better comprehension for students. Tone adjustment is recommended to suit their level of understanding.'"
      ]
     },
     "execution_count": 80,
     "metadata": {},
     "output_type": "execute_result"
    }
   ],
   "source": [
    "review"
   ]
  },
  {
   "cell_type": "code",
   "execution_count": 84,
   "metadata": {},
   "outputs": [],
   "source": [
    "quiz_table_data = []\n",
    "for key, value in quiz_json.items():\n",
    "    mcq = value[\"mcq\"]\n",
    "    options = \" | \".join(\n",
    "        [\n",
    "            f\"{option}: {option_value}\"\n",
    "            for option, option_value in value[\"options\"].items()\n",
    "            ]\n",
    "        )\n",
    "    correct = value[\"correct\"]\n",
    "    quiz_table_data.append({\"MCQ\": mcq, \"Choices\": options, \"Correct\": correct})\n"
   ]
  },
  {
   "cell_type": "code",
   "execution_count": 85,
   "metadata": {},
   "outputs": [
    {
     "data": {
      "text/plain": [
       "[{'MCQ': 'Which of the following is not one of the six major kinds of Hinduism according to June McDaniel?',\n",
       "  'Choices': 'a: Folk Hinduism | b: Vedic Hinduism | c: Buddhism | d: Vedantic Hinduism',\n",
       "  'Correct': 'c'},\n",
       " {'MCQ': 'What are the four major currents of Hinduism based on primary deities?',\n",
       "  'Choices': 'a: Shaivism, Vaishnavism, Shaktism, Smartism | b: Sānkhya, Yoga, Nyāya, Vaisheshika | c: Ramaism, Brahmo Samaj, Theosophical Society, ISKCON | d: Vedanta, Yoga, Nyāya, Vaisheshika',\n",
       "  'Correct': 'a'},\n",
       " {'MCQ': 'According to Michaels, what are the three Hindu religions?',\n",
       "  'Choices': 'a: Brahmanic-Sanskritic Hinduism, Jainism, Sikhism | b: Brahmanic-Sanskritic Hinduism, folk religions and tribal religions, founded religions | c: Vaishnavism, Shaivism, Shaktism | d: Vedanta, Yoga, Mimāmsā',\n",
       "  'Correct': 'b'},\n",
       " {'MCQ': 'What is the classification of Hindu religiosity according to Michaels?',\n",
       "  'Choices': 'a: karma-marga, jnana-marga, bhakti-marga, heroism | b: Buddhism, Jainism, Sikhism, Brahmo Samaj | c: Sānkhya, Yoga, Nyāya, Vaisheshika | d: Shaivism, Vaishnavism, Shaktism, Smartism',\n",
       "  'Correct': 'a'},\n",
       " {'MCQ': 'Why did the attempt to classify Hinduism by typology start in the imperial times according to Inden?',\n",
       "  'Choices': 'a: To understand and portray Hinduism from the perspective of proselytising missionaries and colonial officials | b: To create a rigid definition of Hinduism | c: To promote the ideals of Advaita Vedanta | d: To categorize Hinduism based on geographical regions',\n",
       "  'Correct': 'a'}]"
      ]
     },
     "execution_count": 85,
     "metadata": {},
     "output_type": "execute_result"
    }
   ],
   "source": [
    "quiz_table_data"
   ]
  },
  {
   "cell_type": "code",
   "execution_count": 87,
   "metadata": {},
   "outputs": [],
   "source": [
    "quiz_df = pd.DataFrame(quiz_table_data)"
   ]
  },
  {
   "cell_type": "code",
   "execution_count": 88,
   "metadata": {},
   "outputs": [],
   "source": [
    "quiz_df.to_csv(\"hinduism.csv\", index=False)"
   ]
  }
 ],
 "metadata": {
  "kernelspec": {
   "display_name": "Python 3",
   "language": "python",
   "name": "python3"
  },
  "language_info": {
   "codemirror_mode": {
    "name": "ipython",
    "version": 3
   },
   "file_extension": ".py",
   "mimetype": "text/x-python",
   "name": "python",
   "nbconvert_exporter": "python",
   "pygments_lexer": "ipython3",
   "version": "3.11.7"
  }
 },
 "nbformat": 4,
 "nbformat_minor": 2
}
